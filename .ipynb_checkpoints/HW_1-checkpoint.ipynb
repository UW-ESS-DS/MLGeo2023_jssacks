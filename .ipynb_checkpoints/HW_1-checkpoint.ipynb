{
 "cells": [
  {
   "cell_type": "markdown",
   "id": "29538bee-8dfa-4b67-8f5d-c50431d028da",
   "metadata": {},
   "source": [
    "## Homework 1"
   ]
  },
  {
   "cell_type": "code",
   "execution_count": 20,
   "id": "886c5381-ace8-4e73-87be-8ad9391765ab",
   "metadata": {},
   "outputs": [],
   "source": [
    "##Load Modules\n",
    "import numpy as np\n",
    "import pandas as pd\n",
    "import matplotlib.pyplot as plt"
   ]
  },
  {
   "cell_type": "code",
   "execution_count": 3,
   "id": "38578cc6-e561-412c-96f3-90e5b3b21ffe",
   "metadata": {},
   "outputs": [
    {
     "name": "stdout",
     "output_type": "stream",
     "text": [
      "   temperature  salinity\n",
      "0           18      30.0\n",
      "1           19      31.0\n",
      "2           18      30.5\n",
      "3           22      32.0\n",
      "4           24      20.0\n",
      "5           21      21.0\n",
      "6           20      25.0\n",
      "{'temperature': [18, 19, 18, 22, 24, 21, 20], 'salinity': [30, 31, 30.5, 32, 20, 21, 25]}\n"
     ]
    }
   ],
   "source": [
    "###Create a dataframe of salinity data\n",
    "sal_dat = {\n",
    "    'temperature' : [18,19,18,22,24,21,20],\n",
    "    'salinity':[30,31,30.5,32,20,21,25]\n",
    "}\n",
    "\n",
    "##convert to pandaras dataframe\n",
    "sal_pd = pd.DataFrame(sal_dat)\n",
    "print(sal_pd)\n",
    "\n",
    "##convert to numpy array\n",
    "sal_np = np.array(sal_dat)\n",
    "print(sal_np)\n"
   ]
  },
  {
   "cell_type": "code",
   "execution_count": 4,
   "id": "59a6f49c-4dca-4882-be2c-08108143735c",
   "metadata": {},
   "outputs": [
    {
     "name": "stdout",
     "output_type": "stream",
     "text": [
      "   temperature\n",
      "0           18\n",
      "1           19\n",
      "2           18\n",
      "3           22\n",
      "4           24\n",
      "5           21\n",
      "6           20\n",
      "      ratio\n",
      "0  0.600000\n",
      "1  0.612903\n",
      "2  0.590164\n",
      "3  0.687500\n",
      "4  1.200000\n",
      "5  1.000000\n",
      "6  0.800000\n"
     ]
    }
   ],
   "source": [
    "##Calculate Temperature/salinity ratio\n",
    "print(sal_pd[['temperature']]) \n",
    "\n",
    "#print(sal_pd[['temperature']].to_string(index=False)) \n",
    "\n",
    "sal_pd[\"ratio\"] = (sal_pd[\"temperature\"]/sal_pd[\"salinity\"])\n",
    "print(sal_pd[[\"ratio\"]])"
   ]
  },
  {
   "cell_type": "code",
   "execution_count": 49,
   "id": "aaed7318-9bd8-44d2-84a1-7bfd02926753",
   "metadata": {},
   "outputs": [
    {
     "name": "stdout",
     "output_type": "stream",
     "text": [
      "[18, 19, 18, 22, 24, 21, 20]\n",
      "[30, 31, 30.5, 32, 20, 21, 25]\n"
     ]
    },
    {
     "data": {
      "image/png": "[encoded data removed]",
      "text/plain": [
       "<Figure size 640x480 with 1 Axes>"
      ]
     },
     "metadata": {},
     "output_type": "display_data"
    }
   ],
   "source": [
    "##Plot temperature vs. Salinity\n",
    "\n",
    "#scatter = plt.scatter(x = sal_pd[\"temperature\"], y = sal_pd[\"salinity\"])\n",
    "#scatter = plt.scatter(x = sal_np[\"temperature\"], y = sal_np[\"salinity\"])\n",
    "temp = sal_dat[\"temperature\"]\n",
    "print(temp)\n",
    "\n",
    "sal = sal_dat[\"salinity\"]\n",
    "print(sal)\n",
    "\n",
    "plt.scatter(sal_dat[\"temperature\"], sal_dat[\"salinity\"])\n",
    "plt.xlabel(\"Temperature (C)\")\n",
    "plt.ylabel(\"Salinity (PPT)\")\n",
    "plt.title(\"Temperature vs. Salinity Plot for HW1\")\n",
    "plt.savefig('temp_sal.png')\n",
    "#plt.plot(sal, temp)\n",
    "\n"
   ]
  },
  {
   "cell_type": "code",
   "execution_count": null,
   "id": "125c0a87-1774-4866-872d-73f9b82a2d11",
   "metadata": {},
   "outputs": [],
   "source": []
  }
 ],
 "metadata": {
  "kernelspec": {
   "display_name": "Python 3 (ipykernel)",
   "language": "python",
   "name": "python3"
  },
  "language_info": {
   "codemirror_mode": {
    "name": "ipython",
    "version": 3
   },
   "file_extension": ".py",
   "mimetype": "text/x-python",
   "name": "python",
   "nbconvert_exporter": "python",
   "pygments_lexer": "ipython3",
   "version": "3.11.4"
  }
 },
 "nbformat": 4,
 "nbformat_minor": 5
}
