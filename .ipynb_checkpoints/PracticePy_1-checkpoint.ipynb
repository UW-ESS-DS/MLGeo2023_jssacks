{
 "cells": [
  {
   "cell_type": "code",
   "execution_count": 1,
   "id": "1fd8f0a3-d7c0-4a66-b6c8-cae1b941ee46",
   "metadata": {},
   "outputs": [
    {
     "name": "stdout",
     "output_type": "stream",
     "text": [
      "1\n"
     ]
    }
   ],
   "source": [
    "#This is a new practice python document \n",
    "\n",
    "#lets define some variables \n",
    "\n",
    "x = 1\n",
    "y = 2\n",
    "z = 3\n",
    "\n",
    "print (x)"
   ]
  },
  {
   "cell_type": "code",
   "execution_count": 3,
   "id": "c595feab-cd63-48db-888a-dfea72f44a56",
   "metadata": {},
   "outputs": [],
   "source": [
    "#import dependencies \n",
    "\n",
    "import numpy as np\n",
    "import matplotlib as mpl\n",
    "import pandas as pnd"
   ]
  },
  {
   "cell_type": "code",
   "execution_count": null,
   "id": "51887c70-2eef-4307-8f34-051c29e669eb",
   "metadata": {},
   "outputs": [],
   "source": []
  },
  {
   "cell_type": "markdown",
   "id": "b7b8ca53-7f78-4129-8210-f2fd381ccf34",
   "metadata": {},
   "source": []
  },
  {
   "cell_type": "code",
   "execution_count": null,
   "id": "9d13d58c-8f2f-41ba-8ff8-372737bf9d75",
   "metadata": {},
   "outputs": [],
   "source": []
  },
  {
   "cell_type": "code",
   "execution_count": null,
   "id": "56c88f48-1525-4cd3-bd35-5fea71b3f5a1",
   "metadata": {},
   "outputs": [],
   "source": []
  },
  {
   "cell_type": "code",
   "execution_count": null,
   "id": "2628c52f-6197-47ff-9a8d-86a0318272c2",
   "metadata": {},
   "outputs": [],
   "source": [
    "# Is this a fun little markdown bit?\n",
    "\n",
    "## How fun!"
   ]
  },
  {
   "cell_type": "raw",
   "id": "b7348b52-5c03-47f9-bdab-7f3c84c144c7",
   "metadata": {},
   "source": [
    "What is raw????"
   ]
  }
 ],
 "metadata": {
  "kernelspec": {
   "display_name": "Python 3 (ipykernel)",
   "language": "python",
   "name": "python3"
  },
  "language_info": {
   "codemirror_mode": {
    "name": "ipython",
    "version": 3
   },
   "file_extension": ".py",
   "mimetype": "text/x-python",
   "name": "python",
   "nbconvert_exporter": "python",
   "pygments_lexer": "ipython3",
   "version": "3.11.4"
  }
 },
 "nbformat": 4,
 "nbformat_minor": 5
}
